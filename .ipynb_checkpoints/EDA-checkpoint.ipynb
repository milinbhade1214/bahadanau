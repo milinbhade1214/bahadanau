{
 "cells": [
  {
   "cell_type": "markdown",
   "id": "307e33b7",
   "metadata": {},
   "source": [
    "# Data Analysis"
   ]
  },
  {
   "cell_type": "code",
   "execution_count": 1,
   "id": "c3b39f23",
   "metadata": {},
   "outputs": [],
   "source": [
    "import pandas as pd"
   ]
  },
  {
   "cell_type": "code",
   "execution_count": 9,
   "id": "b7fa40bf",
   "metadata": {},
   "outputs": [],
   "source": [
    "df = pd.read_csv('data.csv')"
   ]
  },
  {
   "cell_type": "code",
   "execution_count": 11,
   "id": "21124c4d",
   "metadata": {},
   "outputs": [],
   "source": [
    "## Equations"
   ]
  },
  {
   "cell_type": "code",
   "execution_count": 15,
   "id": "ce733b1f",
   "metadata": {},
   "outputs": [
    {
     "data": {
      "text/plain": [
       "Equation\n",
       "- number0 number1              207\n",
       "+ number0 number1              187\n",
       "* number0 number1              112\n",
       "/ number0 number1               88\n",
       "- number1 number0               52\n",
       "                              ... \n",
       "+ - number0 number2 number1      1\n",
       "+ + number2 number1 number0      1\n",
       "- - number2 number1 number0      1\n",
       "- - number0 number2 number1      1\n",
       "- + number2 number0 number1      1\n",
       "Name: count, Length: 71, dtype: int64"
      ]
     },
     "execution_count": 15,
     "metadata": {},
     "output_type": "execute_result"
    }
   ],
   "source": [
    "df['Equation'].value_counts()"
   ]
  },
  {
   "cell_type": "code",
   "execution_count": 17,
   "id": "226b377e",
   "metadata": {},
   "outputs": [],
   "source": [
    "value_counts = df['Equation'].value_counts()"
   ]
  },
  {
   "cell_type": "code",
   "execution_count": 18,
   "id": "9613326a",
   "metadata": {},
   "outputs": [],
   "source": [
    "result = df[df['Equation'].map(value_counts) <= 5]"
   ]
  },
  {
   "cell_type": "code",
   "execution_count": 21,
   "id": "041df97f",
   "metadata": {},
   "outputs": [
    {
     "data": {
      "text/html": [
       "<div>\n",
       "<style scoped>\n",
       "    .dataframe tbody tr th:only-of-type {\n",
       "        vertical-align: middle;\n",
       "    }\n",
       "\n",
       "    .dataframe tbody tr th {\n",
       "        vertical-align: top;\n",
       "    }\n",
       "\n",
       "    .dataframe thead th {\n",
       "        text-align: right;\n",
       "    }\n",
       "</style>\n",
       "<table border=\"1\" class=\"dataframe\">\n",
       "  <thead>\n",
       "    <tr style=\"text-align: right;\">\n",
       "      <th></th>\n",
       "      <th>input</th>\n",
       "      <th>Equation</th>\n",
       "    </tr>\n",
       "  </thead>\n",
       "  <tbody>\n",
       "    <tr>\n",
       "      <th>69</th>\n",
       "      <td>while building the house charlie noticed that ...</td>\n",
       "      <td>+ + number0 number5 number3</td>\n",
       "    </tr>\n",
       "    <tr>\n",
       "      <th>109</th>\n",
       "      <td>after recess buddy changed clothes for gym cla...</td>\n",
       "      <td>+ number2 number3</td>\n",
       "    </tr>\n",
       "    <tr>\n",
       "      <th>196</th>\n",
       "      <td>katie loves to travel . on her birthday she de...</td>\n",
       "      <td>- number0 + number3 number5</td>\n",
       "    </tr>\n",
       "    <tr>\n",
       "      <th>201</th>\n",
       "      <td>she then went to number0 orphanages and donate...</td>\n",
       "      <td>- number1 + number2 number3</td>\n",
       "    </tr>\n",
       "    <tr>\n",
       "      <th>331</th>\n",
       "      <td>maggi had number0 packages of cupcakes . there...</td>\n",
       "      <td>- * number0 number1 number2</td>\n",
       "    </tr>\n",
       "    <tr>\n",
       "      <th>357</th>\n",
       "      <td>number0 stamp costs $ number1 . number2 stamps...</td>\n",
       "      <td>+ number5 number1</td>\n",
       "    </tr>\n",
       "    <tr>\n",
       "      <th>363</th>\n",
       "      <td>in number0 week an airplane pilot flew number1...</td>\n",
       "      <td>* + number1 number2 number3</td>\n",
       "    </tr>\n",
       "    <tr>\n",
       "      <th>373</th>\n",
       "      <td>mrs. hilt saw a rollercoaster . number0 studen...</td>\n",
       "      <td>* number0 / number2 number1</td>\n",
       "    </tr>\n",
       "    <tr>\n",
       "      <th>381</th>\n",
       "      <td>shelby had number0 pieces of candy . she gave ...</td>\n",
       "      <td>- number0 * number1 number2</td>\n",
       "    </tr>\n",
       "    <tr>\n",
       "      <th>450</th>\n",
       "      <td>a number machine changes the value of the numb...</td>\n",
       "      <td>- + number2 number0 number1</td>\n",
       "    </tr>\n",
       "    <tr>\n",
       "      <th>454</th>\n",
       "      <td>a worm has fallen into a hole that is number0 ...</td>\n",
       "      <td>/ number0 - number1 number2</td>\n",
       "    </tr>\n",
       "    <tr>\n",
       "      <th>470</th>\n",
       "      <td>jake read number0 pages of his new book . it h...</td>\n",
       "      <td>+ number0 number3</td>\n",
       "    </tr>\n",
       "    <tr>\n",
       "      <th>480</th>\n",
       "      <td>tommy has $ number0 . he wants to buy a $ numb...</td>\n",
       "      <td>- + number1 number2 number0</td>\n",
       "    </tr>\n",
       "    <tr>\n",
       "      <th>502</th>\n",
       "      <td>the third graders are having a fair . they hav...</td>\n",
       "      <td>- - number0 number2 number1</td>\n",
       "    </tr>\n",
       "    <tr>\n",
       "      <th>503</th>\n",
       "      <td>kevin collected toys to use as prizes at the f...</td>\n",
       "      <td>- - number2 number1 number0</td>\n",
       "    </tr>\n",
       "    <tr>\n",
       "      <th>510</th>\n",
       "      <td>jean had a bag of candy . she gave number0 pie...</td>\n",
       "      <td>+ + number2 number1 number0</td>\n",
       "    </tr>\n",
       "    <tr>\n",
       "      <th>513</th>\n",
       "      <td>ramon works at the supermarket . he put number...</td>\n",
       "      <td>+ - number0 number2 number1</td>\n",
       "    </tr>\n",
       "    <tr>\n",
       "      <th>515</th>\n",
       "      <td>number0 children and number1 adults went to th...</td>\n",
       "      <td>- - number2 number0 number1</td>\n",
       "    </tr>\n",
       "    <tr>\n",
       "      <th>538</th>\n",
       "      <td>the difference between number0 numbers is numb...</td>\n",
       "      <td>+ number2 number1</td>\n",
       "    </tr>\n",
       "    <tr>\n",
       "      <th>844</th>\n",
       "      <td>edward earned number0 dollars for every lawn h...</td>\n",
       "      <td>+ * number1 number0 number2</td>\n",
       "    </tr>\n",
       "    <tr>\n",
       "      <th>911</th>\n",
       "      <td>chloe and her friends were recycling paper for...</td>\n",
       "      <td>/ + number2 number3 number0</td>\n",
       "    </tr>\n",
       "    <tr>\n",
       "      <th>932</th>\n",
       "      <td>a pet store had number0 puppies . in number1 d...</td>\n",
       "      <td>/ - number0 number2 number3</td>\n",
       "    </tr>\n",
       "    <tr>\n",
       "      <th>933</th>\n",
       "      <td>faye picked number0 flowers for her friend 's ...</td>\n",
       "      <td>/ - number0 number2 number1</td>\n",
       "    </tr>\n",
       "  </tbody>\n",
       "</table>\n",
       "</div>"
      ],
      "text/plain": [
       "                                                 input  \\\n",
       "69   while building the house charlie noticed that ...   \n",
       "109  after recess buddy changed clothes for gym cla...   \n",
       "196  katie loves to travel . on her birthday she de...   \n",
       "201  she then went to number0 orphanages and donate...   \n",
       "331  maggi had number0 packages of cupcakes . there...   \n",
       "357  number0 stamp costs $ number1 . number2 stamps...   \n",
       "363  in number0 week an airplane pilot flew number1...   \n",
       "373  mrs. hilt saw a rollercoaster . number0 studen...   \n",
       "381  shelby had number0 pieces of candy . she gave ...   \n",
       "450  a number machine changes the value of the numb...   \n",
       "454  a worm has fallen into a hole that is number0 ...   \n",
       "470  jake read number0 pages of his new book . it h...   \n",
       "480  tommy has $ number0 . he wants to buy a $ numb...   \n",
       "502  the third graders are having a fair . they hav...   \n",
       "503  kevin collected toys to use as prizes at the f...   \n",
       "510  jean had a bag of candy . she gave number0 pie...   \n",
       "513  ramon works at the supermarket . he put number...   \n",
       "515  number0 children and number1 adults went to th...   \n",
       "538  the difference between number0 numbers is numb...   \n",
       "844  edward earned number0 dollars for every lawn h...   \n",
       "911  chloe and her friends were recycling paper for...   \n",
       "932  a pet store had number0 puppies . in number1 d...   \n",
       "933  faye picked number0 flowers for her friend 's ...   \n",
       "\n",
       "                        Equation  \n",
       "69   + + number0 number5 number3  \n",
       "109            + number2 number3  \n",
       "196  - number0 + number3 number5  \n",
       "201  - number1 + number2 number3  \n",
       "331  - * number0 number1 number2  \n",
       "357            + number5 number1  \n",
       "363  * + number1 number2 number3  \n",
       "373  * number0 / number2 number1  \n",
       "381  - number0 * number1 number2  \n",
       "450  - + number2 number0 number1  \n",
       "454  / number0 - number1 number2  \n",
       "470            + number0 number3  \n",
       "480  - + number1 number2 number0  \n",
       "502  - - number0 number2 number1  \n",
       "503  - - number2 number1 number0  \n",
       "510  + + number2 number1 number0  \n",
       "513  + - number0 number2 number1  \n",
       "515  - - number2 number0 number1  \n",
       "538            + number2 number1  \n",
       "844  + * number1 number0 number2  \n",
       "911  / + number2 number3 number0  \n",
       "932  / - number0 number2 number3  \n",
       "933  / - number0 number2 number1  "
      ]
     },
     "execution_count": 21,
     "metadata": {},
     "output_type": "execute_result"
    }
   ],
   "source": [
    "result"
   ]
  },
  {
   "cell_type": "markdown",
   "id": "ac9efa1e",
   "metadata": {},
   "source": [
    "### 23 Examples have only one instance"
   ]
  },
  {
   "cell_type": "markdown",
   "id": "2441ea9a",
   "metadata": {},
   "source": [
    "Mostly complex and having three entities"
   ]
  },
  {
   "cell_type": "code",
   "execution_count": 22,
   "id": "742ab294",
   "metadata": {},
   "outputs": [
    {
     "data": {
      "text/plain": [
       "input       tommy has $ number0 . he wants to buy a $ numb...\n",
       "Equation                          - + number1 number2 number0\n",
       "Name: 480, dtype: object"
      ]
     },
     "execution_count": 22,
     "metadata": {},
     "output_type": "execute_result"
    }
   ],
   "source": [
    "df.iloc[480]"
   ]
  },
  {
   "cell_type": "code",
   "execution_count": 30,
   "id": "f62da28b",
   "metadata": {},
   "outputs": [],
   "source": [
    "dd = df[df['Equation'].map(value_counts) >= 100]"
   ]
  },
  {
   "cell_type": "code",
   "execution_count": 32,
   "id": "62568fe5",
   "metadata": {},
   "outputs": [
    {
     "data": {
      "text/plain": [
       "Equation\n",
       "- number0 number1    207\n",
       "+ number0 number1    187\n",
       "* number0 number1    112\n",
       "Name: count, dtype: int64"
      ]
     },
     "execution_count": 32,
     "metadata": {},
     "output_type": "execute_result"
    }
   ],
   "source": [
    "dd['Equation'].value_counts()"
   ]
  },
  {
   "cell_type": "markdown",
   "id": "dd1fd79f",
   "metadata": {},
   "source": [
    "### Only three equations have more than 100 of the type"
   ]
  },
  {
   "cell_type": "code",
   "execution_count": 33,
   "id": "7d5c914c",
   "metadata": {},
   "outputs": [],
   "source": [
    "dd = df[df['Equation'].map(value_counts) <= 100]"
   ]
  },
  {
   "cell_type": "code",
   "execution_count": 35,
   "id": "fff381b5",
   "metadata": {},
   "outputs": [
    {
     "data": {
      "text/plain": [
       "Equation\n",
       "/ number0 number1              88\n",
       "- number1 number0              52\n",
       "+ + number0 number1 number2    39\n",
       "- - number0 number1 number2    38\n",
       "/ number1 number0              33\n",
       "                               ..\n",
       "- + number2 number0 number1     1\n",
       "- number0 * number1 number2     1\n",
       "* number0 / number2 number1     1\n",
       "* + number1 number2 number3     1\n",
       "- - number2 number1 number0     1\n",
       "Name: count, Length: 68, dtype: int64"
      ]
     },
     "execution_count": 35,
     "metadata": {},
     "output_type": "execute_result"
    }
   ],
   "source": [
    "dd['Equation'].value_counts()"
   ]
  },
  {
   "cell_type": "code",
   "execution_count": 36,
   "id": "e11b1328",
   "metadata": {},
   "outputs": [],
   "source": [
    "dd = df[df['Equation'].map(value_counts) <= 33]"
   ]
  },
  {
   "cell_type": "code",
   "execution_count": 37,
   "id": "579917cb",
   "metadata": {},
   "outputs": [
    {
     "data": {
      "text/plain": [
       "Equation\n",
       "/ number1 number0              33\n",
       "- + number0 number1 number2    16\n",
       "+ - number0 number1 number2    15\n",
       "/ number0 number2              11\n",
       "/ - number0 number1 number2    10\n",
       "                               ..\n",
       "- + number1 number2 number0     1\n",
       "- - number0 number2 number1     1\n",
       "- - number2 number1 number0     1\n",
       "+ + number2 number1 number0     1\n",
       "+ number2 number3               1\n",
       "Name: count, Length: 64, dtype: int64"
      ]
     },
     "execution_count": 37,
     "metadata": {},
     "output_type": "execute_result"
    }
   ],
   "source": [
    "dd['Equation'].value_counts()"
   ]
  },
  {
   "cell_type": "markdown",
   "id": "299f4865",
   "metadata": {},
   "source": [
    "# Less than 2 examples"
   ]
  },
  {
   "cell_type": "code",
   "execution_count": 38,
   "id": "aa91b327",
   "metadata": {},
   "outputs": [],
   "source": [
    "dd = df[df['Equation'].map(value_counts) < 2]"
   ]
  },
  {
   "cell_type": "code",
   "execution_count": 41,
   "id": "944e2377",
   "metadata": {},
   "outputs": [
    {
     "data": {
      "text/plain": [
       "Equation\n",
       "+ + number0 number5 number3    1\n",
       "- + number1 number2 number0    1\n",
       "/ - number0 number2 number3    1\n",
       "/ + number2 number3 number0    1\n",
       "+ * number1 number0 number2    1\n",
       "+ number2 number1              1\n",
       "- - number2 number0 number1    1\n",
       "+ - number0 number2 number1    1\n",
       "+ + number2 number1 number0    1\n",
       "- - number2 number1 number0    1\n",
       "- - number0 number2 number1    1\n",
       "+ number0 number3              1\n",
       "+ number2 number3              1\n",
       "/ number0 - number1 number2    1\n",
       "- + number2 number0 number1    1\n",
       "- number0 * number1 number2    1\n",
       "* number0 / number2 number1    1\n",
       "* + number1 number2 number3    1\n",
       "+ number5 number1              1\n",
       "- * number0 number1 number2    1\n",
       "- number1 + number2 number3    1\n",
       "- number0 + number3 number5    1\n",
       "/ - number0 number2 number1    1\n",
       "Name: count, dtype: int64"
      ]
     },
     "execution_count": 41,
     "metadata": {},
     "output_type": "execute_result"
    }
   ],
   "source": [
    "dd['Equation'].value_counts()"
   ]
  },
  {
   "cell_type": "code",
   "execution_count": 42,
   "id": "bd9dbc8e",
   "metadata": {},
   "outputs": [
    {
     "data": {
      "text/html": [
       "<div>\n",
       "<style scoped>\n",
       "    .dataframe tbody tr th:only-of-type {\n",
       "        vertical-align: middle;\n",
       "    }\n",
       "\n",
       "    .dataframe tbody tr th {\n",
       "        vertical-align: top;\n",
       "    }\n",
       "\n",
       "    .dataframe thead th {\n",
       "        text-align: right;\n",
       "    }\n",
       "</style>\n",
       "<table border=\"1\" class=\"dataframe\">\n",
       "  <thead>\n",
       "    <tr style=\"text-align: right;\">\n",
       "      <th></th>\n",
       "      <th>input</th>\n",
       "      <th>Equation</th>\n",
       "    </tr>\n",
       "  </thead>\n",
       "  <tbody>\n",
       "    <tr>\n",
       "      <th>69</th>\n",
       "      <td>while building the house charlie noticed that ...</td>\n",
       "      <td>+ + number0 number5 number3</td>\n",
       "    </tr>\n",
       "    <tr>\n",
       "      <th>109</th>\n",
       "      <td>after recess buddy changed clothes for gym cla...</td>\n",
       "      <td>+ number2 number3</td>\n",
       "    </tr>\n",
       "    <tr>\n",
       "      <th>196</th>\n",
       "      <td>katie loves to travel . on her birthday she de...</td>\n",
       "      <td>- number0 + number3 number5</td>\n",
       "    </tr>\n",
       "    <tr>\n",
       "      <th>201</th>\n",
       "      <td>she then went to number0 orphanages and donate...</td>\n",
       "      <td>- number1 + number2 number3</td>\n",
       "    </tr>\n",
       "    <tr>\n",
       "      <th>331</th>\n",
       "      <td>maggi had number0 packages of cupcakes . there...</td>\n",
       "      <td>- * number0 number1 number2</td>\n",
       "    </tr>\n",
       "    <tr>\n",
       "      <th>357</th>\n",
       "      <td>number0 stamp costs $ number1 . number2 stamps...</td>\n",
       "      <td>+ number5 number1</td>\n",
       "    </tr>\n",
       "    <tr>\n",
       "      <th>363</th>\n",
       "      <td>in number0 week an airplane pilot flew number1...</td>\n",
       "      <td>* + number1 number2 number3</td>\n",
       "    </tr>\n",
       "    <tr>\n",
       "      <th>373</th>\n",
       "      <td>mrs. hilt saw a rollercoaster . number0 studen...</td>\n",
       "      <td>* number0 / number2 number1</td>\n",
       "    </tr>\n",
       "    <tr>\n",
       "      <th>381</th>\n",
       "      <td>shelby had number0 pieces of candy . she gave ...</td>\n",
       "      <td>- number0 * number1 number2</td>\n",
       "    </tr>\n",
       "    <tr>\n",
       "      <th>450</th>\n",
       "      <td>a number machine changes the value of the numb...</td>\n",
       "      <td>- + number2 number0 number1</td>\n",
       "    </tr>\n",
       "    <tr>\n",
       "      <th>454</th>\n",
       "      <td>a worm has fallen into a hole that is number0 ...</td>\n",
       "      <td>/ number0 - number1 number2</td>\n",
       "    </tr>\n",
       "    <tr>\n",
       "      <th>470</th>\n",
       "      <td>jake read number0 pages of his new book . it h...</td>\n",
       "      <td>+ number0 number3</td>\n",
       "    </tr>\n",
       "    <tr>\n",
       "      <th>480</th>\n",
       "      <td>tommy has $ number0 . he wants to buy a $ numb...</td>\n",
       "      <td>- + number1 number2 number0</td>\n",
       "    </tr>\n",
       "    <tr>\n",
       "      <th>502</th>\n",
       "      <td>the third graders are having a fair . they hav...</td>\n",
       "      <td>- - number0 number2 number1</td>\n",
       "    </tr>\n",
       "    <tr>\n",
       "      <th>503</th>\n",
       "      <td>kevin collected toys to use as prizes at the f...</td>\n",
       "      <td>- - number2 number1 number0</td>\n",
       "    </tr>\n",
       "    <tr>\n",
       "      <th>510</th>\n",
       "      <td>jean had a bag of candy . she gave number0 pie...</td>\n",
       "      <td>+ + number2 number1 number0</td>\n",
       "    </tr>\n",
       "    <tr>\n",
       "      <th>513</th>\n",
       "      <td>ramon works at the supermarket . he put number...</td>\n",
       "      <td>+ - number0 number2 number1</td>\n",
       "    </tr>\n",
       "    <tr>\n",
       "      <th>515</th>\n",
       "      <td>number0 children and number1 adults went to th...</td>\n",
       "      <td>- - number2 number0 number1</td>\n",
       "    </tr>\n",
       "    <tr>\n",
       "      <th>538</th>\n",
       "      <td>the difference between number0 numbers is numb...</td>\n",
       "      <td>+ number2 number1</td>\n",
       "    </tr>\n",
       "    <tr>\n",
       "      <th>844</th>\n",
       "      <td>edward earned number0 dollars for every lawn h...</td>\n",
       "      <td>+ * number1 number0 number2</td>\n",
       "    </tr>\n",
       "    <tr>\n",
       "      <th>911</th>\n",
       "      <td>chloe and her friends were recycling paper for...</td>\n",
       "      <td>/ + number2 number3 number0</td>\n",
       "    </tr>\n",
       "    <tr>\n",
       "      <th>932</th>\n",
       "      <td>a pet store had number0 puppies . in number1 d...</td>\n",
       "      <td>/ - number0 number2 number3</td>\n",
       "    </tr>\n",
       "    <tr>\n",
       "      <th>933</th>\n",
       "      <td>faye picked number0 flowers for her friend 's ...</td>\n",
       "      <td>/ - number0 number2 number1</td>\n",
       "    </tr>\n",
       "  </tbody>\n",
       "</table>\n",
       "</div>"
      ],
      "text/plain": [
       "                                                 input  \\\n",
       "69   while building the house charlie noticed that ...   \n",
       "109  after recess buddy changed clothes for gym cla...   \n",
       "196  katie loves to travel . on her birthday she de...   \n",
       "201  she then went to number0 orphanages and donate...   \n",
       "331  maggi had number0 packages of cupcakes . there...   \n",
       "357  number0 stamp costs $ number1 . number2 stamps...   \n",
       "363  in number0 week an airplane pilot flew number1...   \n",
       "373  mrs. hilt saw a rollercoaster . number0 studen...   \n",
       "381  shelby had number0 pieces of candy . she gave ...   \n",
       "450  a number machine changes the value of the numb...   \n",
       "454  a worm has fallen into a hole that is number0 ...   \n",
       "470  jake read number0 pages of his new book . it h...   \n",
       "480  tommy has $ number0 . he wants to buy a $ numb...   \n",
       "502  the third graders are having a fair . they hav...   \n",
       "503  kevin collected toys to use as prizes at the f...   \n",
       "510  jean had a bag of candy . she gave number0 pie...   \n",
       "513  ramon works at the supermarket . he put number...   \n",
       "515  number0 children and number1 adults went to th...   \n",
       "538  the difference between number0 numbers is numb...   \n",
       "844  edward earned number0 dollars for every lawn h...   \n",
       "911  chloe and her friends were recycling paper for...   \n",
       "932  a pet store had number0 puppies . in number1 d...   \n",
       "933  faye picked number0 flowers for her friend 's ...   \n",
       "\n",
       "                        Equation  \n",
       "69   + + number0 number5 number3  \n",
       "109            + number2 number3  \n",
       "196  - number0 + number3 number5  \n",
       "201  - number1 + number2 number3  \n",
       "331  - * number0 number1 number2  \n",
       "357            + number5 number1  \n",
       "363  * + number1 number2 number3  \n",
       "373  * number0 / number2 number1  \n",
       "381  - number0 * number1 number2  \n",
       "450  - + number2 number0 number1  \n",
       "454  / number0 - number1 number2  \n",
       "470            + number0 number3  \n",
       "480  - + number1 number2 number0  \n",
       "502  - - number0 number2 number1  \n",
       "503  - - number2 number1 number0  \n",
       "510  + + number2 number1 number0  \n",
       "513  + - number0 number2 number1  \n",
       "515  - - number2 number0 number1  \n",
       "538            + number2 number1  \n",
       "844  + * number1 number0 number2  \n",
       "911  / + number2 number3 number0  \n",
       "932  / - number0 number2 number3  \n",
       "933  / - number0 number2 number1  "
      ]
     },
     "execution_count": 42,
     "metadata": {},
     "output_type": "execute_result"
    }
   ],
   "source": [
    "dd"
   ]
  },
  {
   "cell_type": "code",
   "execution_count": 52,
   "id": "53193418",
   "metadata": {},
   "outputs": [
    {
     "data": {
      "text/plain": [
       "input       edward earned number0 dollars for every lawn h...\n",
       "Equation                          + * number1 number0 number2\n",
       "Name: 844, dtype: object"
      ]
     },
     "execution_count": 52,
     "metadata": {},
     "output_type": "execute_result"
    }
   ],
   "source": [
    "dd.loc[844]"
   ]
  },
  {
   "cell_type": "code",
   "execution_count": 55,
   "id": "7f5379cb",
   "metadata": {},
   "outputs": [],
   "source": [
    "df.to_csv('in.csv', sep='\\t', index=False)"
   ]
  },
  {
   "cell_type": "code",
   "execution_count": null,
   "id": "aeadd850",
   "metadata": {},
   "outputs": [],
   "source": []
  }
 ],
 "metadata": {
  "kernelspec": {
   "display_name": "Python 3 (ipykernel)",
   "language": "python",
   "name": "python3"
  },
  "language_info": {
   "codemirror_mode": {
    "name": "ipython",
    "version": 3
   },
   "file_extension": ".py",
   "mimetype": "text/x-python",
   "name": "python",
   "nbconvert_exporter": "python",
   "pygments_lexer": "ipython3",
   "version": "3.11.4"
  }
 },
 "nbformat": 4,
 "nbformat_minor": 5
}
